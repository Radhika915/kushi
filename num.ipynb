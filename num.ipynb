{
 "cells": [
  {
   "cell_type": "code",
   "execution_count": null,
   "id": "4d89265f",
   "metadata": {},
   "outputs": [],
   "source": [
    "import numpy as np"
   ]
  },
  {
   "cell_type": "code",
   "execution_count": null,
   "id": "a4c09e90",
   "metadata": {},
   "outputs": [
    {
     "name": "stdout",
     "output_type": "stream",
     "text": [
      "[[   1 6012]\n",
      " [   2 7079]\n",
      " [   3 6886]\n",
      " [   4 7230]\n",
      " [   5 4598]\n",
      " [   6 5564]\n",
      " [   7 6941]\n",
      " [   8 7763]\n",
      " [   9 8063]\n",
      " [  10 9569]]\n",
      "adding 2000\n",
      "[[    1  8012]\n",
      " [    2  9079]\n",
      " [    3  8886]\n",
      " [    4  9230]\n",
      " [    5  6598]\n",
      " [    6  7564]\n",
      " [    7  8941]\n",
      " [    8  9763]\n",
      " [    9 10063]\n",
      " [   10 11569]]\n",
      "gre\n",
      "[[    1  8012]\n",
      " [    2  9079]\n",
      " [    3  8886]\n",
      " [    4  9230]\n",
      " [    5  6598]\n",
      " [    6  7564]\n",
      " [    7  8941]\n",
      " [    8  9763]\n",
      " [    9 10063]\n",
      " [   10 11569]]\n"
     ]
    }
   ],
   "source": [
    "steps=np.array([[1,6012],[2,7079],[3,6886],[4,7230],[5,4598],[6,5564],[7,6941],[8,7763],[9,8063],[10,9569]])\n",
    "print(steps)\n",
    "print('adding 2000')\n",
    "steps[:,1]+=2000\n",
    "print(steps)\n",
    "print(\"gre\")\n",
    "steps[:,1]>8000\n",
    "print(steps)"
   ]
  },
  {
   "cell_type": "code",
   "execution_count": null,
   "id": "0556f4c6",
   "metadata": {},
   "outputs": [
    {
     "name": "stdout",
     "output_type": "stream",
     "text": [
      "[[   1 6012]\n",
      " [   2 7079]\n",
      " [   3 6886]\n",
      " [   4 7230]\n",
      " [   5 4598]\n",
      " [   6 5564]\n",
      " [   7 6941]\n",
      " [   8 7763]\n",
      " [   9 8063]\n",
      " [  10 9569]]\n"
     ]
    }
   ],
   "source": [
    "print(steps)"
   ]
  }
 ],
 "metadata": {
  "kernelspec": {
   "display_name": ".venv (3.13.5)",
   "language": "python",
   "name": "python3"
  },
  "language_info": {
   "codemirror_mode": {
    "name": "ipython",
    "version": 3
   },
   "file_extension": ".py",
   "mimetype": "text/x-python",
   "name": "python",
   "nbconvert_exporter": "python",
   "pygments_lexer": "ipython3",
   "version": "3.13.5"
  }
 },
 "nbformat": 4,
 "nbformat_minor": 5
}
