{
 "cells": [
  {
   "cell_type": "code",
   "execution_count": null,
   "id": "158bf16d",
   "metadata": {},
   "outputs": [],
   "source": [
    "import pandas as pd"
   ]
  },
  {
   "cell_type": "code",
   "execution_count": null,
   "id": "b61aa63a",
   "metadata": {},
   "outputs": [
    {
     "name": "stdout",
     "output_type": "stream",
     "text": [
      "  first_name last_name                type      department  yoe  salary\n",
      "0      aryan     singh  full_time_employee  administration    2   20000\n",
      "1     sahana    hallur              intern       technical    3    5000\n",
      "2       riya      shah  full_time_employee  administration    5   10000\n",
      "3       yash    bhatia  part_time_employee       technical    7   10000\n",
      "4     kaveri     patta  full_time_employee      management    6   20000\n"
     ]
    }
   ],
   "source": [
    "df=pd.read_csv('details_d.csv')\n",
    "print(df)"
   ]
  },
  {
   "cell_type": "code",
   "execution_count": null,
   "id": "1b88c9bb",
   "metadata": {},
   "outputs": [
    {
     "name": "stdout",
     "output_type": "stream",
     "text": [
      "department          administration  management  technical\n",
      "type                                                     \n",
      "full_time_employee         15000.0     20000.0        NaN\n",
      "intern                         NaN         NaN     5000.0\n",
      "part_time_employee             NaN         NaN    10000.0\n"
     ]
    }
   ],
   "source": [
    "df1=df.pivot_table(index='type',columns='department',values='salary')\n",
    "print(df1)"
   ]
  },
  {
   "cell_type": "code",
   "execution_count": null,
   "id": "3f11d85d",
   "metadata": {},
   "outputs": [
    {
     "name": "stdout",
     "output_type": "stream",
     "text": [
      "department          administration  management  technical\n",
      "type                                                     \n",
      "full_time_employee         15000.0     20000.0        NaN\n",
      "intern                         NaN         NaN     5000.0\n",
      "part_time_employee             NaN         NaN    10000.0\n"
     ]
    }
   ],
   "source": [
    "df1=df.pivot_table(index='type',columns='department',values='salary',aggfunc='mean')\n",
    "print(df1)"
   ]
  },
  {
   "cell_type": "code",
   "execution_count": null,
   "id": "f73a3954",
   "metadata": {},
   "outputs": [],
   "source": [
    "arr=(1,2,3,4,5,6,7,8,9,10)\n",
    "df=print(arr)"
   ]
  }
 ],
 "metadata": {
  "kernelspec": {
   "display_name": ".venv (3.13.5)",
   "language": "python",
   "name": "python3"
  },
  "language_info": {
   "codemirror_mode": {
    "name": "ipython",
    "version": 3
   },
   "file_extension": ".py",
   "mimetype": "text/x-python",
   "name": "python",
   "nbconvert_exporter": "python",
   "pygments_lexer": "ipython3",
   "version": "3.13.5"
  }
 },
 "nbformat": 4,
 "nbformat_minor": 5
}
