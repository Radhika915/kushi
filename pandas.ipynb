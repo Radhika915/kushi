{
 "cells": [
  {
   "cell_type": "code",
   "execution_count": 17,
   "id": "0f373000",
   "metadata": {},
   "outputs": [],
   "source": [
    "import pandas as pd"
   ]
  },
  {
   "cell_type": "code",
   "execution_count": 18,
   "id": "ed8690e9",
   "metadata": {},
   "outputs": [
    {
     "name": "stdout",
     "output_type": "stream",
     "text": [
      "[2, 'Tom', 1500.0, 'Resarch']\n"
     ]
    }
   ],
   "source": [
    "student_details=[2,'Tom',1500.00,'Resarch']\n",
    "print(student_details)"
   ]
  },
  {
   "cell_type": "code",
   "execution_count": 19,
   "id": "dfe7d05e",
   "metadata": {},
   "outputs": [
    {
     "name": "stdout",
     "output_type": "stream",
     "text": [
      "id              2\n",
      "name          Tom\n",
      "salary     1500.0\n",
      "dept      Resarch\n",
      "dtype: object\n"
     ]
    }
   ],
   "source": [
    "df=pd.Series(student_details,index=['id','name','salary','dept'])\n",
    "print(df)"
   ]
  },
  {
   "cell_type": "code",
   "execution_count": 20,
   "id": "689d8505",
   "metadata": {},
   "outputs": [
    {
     "name": "stdout",
     "output_type": "stream",
     "text": [
      "1500.0\n"
     ]
    }
   ],
   "source": [
    "print(df.loc['salary'])"
   ]
  },
  {
   "cell_type": "code",
   "execution_count": 38,
   "id": "bf0a8872",
   "metadata": {},
   "outputs": [
    {
     "name": "stdout",
     "output_type": "stream",
     "text": [
      "   id      Name Dept\n",
      "0   1   Radhika  cse\n",
      "1   2     Kushi   me\n",
      "2   3  Rakshita  enc\n",
      "3   4    Shweta   ce\n",
      "4   5      Neha  cse\n",
      "5   6      Anji   me\n",
      "6   7     Paddi  enc\n",
      "7   8  Shnehita  cse\n",
      "8   9     Nayan   ce\n",
      "9  10      Sonu  cse\n"
     ]
    }
   ],
   "source": [
    "student=({'id':[1,2,3,4,5,6,7,8,9,10],\n",
    "          'Name':['Radhika','Kushi','Rakshita','Shweta','Neha','Anji','Paddi','Shnehita','Nayan','Sonu'],\n",
    "          'Dept':['cse','me','enc','ce','cse','me','enc','cse','ce','cse']})\n",
    "df=pd.DataFrame(student)\n",
    "print(df)"
   ]
  },
  {
   "cell_type": "code",
   "execution_count": 25,
   "id": "50a601b3",
   "metadata": {},
   "outputs": [
    {
     "name": "stdout",
     "output_type": "stream",
     "text": [
      "0     Radhika\n",
      "1       Kushi\n",
      "2    Rakshita\n",
      "3      Shweta\n",
      "4        Neha\n",
      "5        Anji\n",
      "6       Paddi\n",
      "7    Shnehita\n",
      "8       Nayan\n",
      "9        Sonu\n",
      "Name: Name, dtype: object\n"
     ]
    }
   ],
   "source": [
    "Df=df['Name']\n",
    "print(Df)"
   ]
  },
  {
   "cell_type": "code",
   "execution_count": 29,
   "id": "3385aaff",
   "metadata": {},
   "outputs": [
    {
     "name": "stdout",
     "output_type": "stream",
     "text": [
      "0    cse\n",
      "1     me\n",
      "2    enc\n",
      "3     ce\n",
      "4    cse\n",
      "5     me\n",
      "6    enc\n",
      "7    cse\n",
      "8     ce\n",
      "9    cse\n",
      "Name: Dept, dtype: object\n"
     ]
    }
   ],
   "source": [
    "print(df.loc[:,'Dept'])"
   ]
  },
  {
   "cell_type": "code",
   "execution_count": 36,
   "id": "9deefee9",
   "metadata": {},
   "outputs": [
    {
     "name": "stdout",
     "output_type": "stream",
     "text": [
      "   id    Name\n",
      "3   4  Shweta\n",
      "4   5    Neha\n",
      "5   6    Anji\n"
     ]
    }
   ],
   "source": [
    "print(df.iloc[3:6,0:2])"
   ]
  },
  {
   "cell_type": "code",
   "execution_count": 40,
   "id": "2017e53b",
   "metadata": {},
   "outputs": [
    {
     "name": "stdout",
     "output_type": "stream",
     "text": [
      "   id      Name Dept\n",
      "5   6      Anji   me\n",
      "6   7     Paddi  enc\n",
      "7   8  Shnehita  cse\n",
      "8   9     Nayan   ce\n",
      "9  10      Sonu  cse\n"
     ]
    }
   ],
   "source": [
    "print(df[df['id']>5])"
   ]
  }
 ],
 "metadata": {
  "kernelspec": {
   "display_name": ".venv (3.13.5)",
   "language": "python",
   "name": "python3"
  },
  "language_info": {
   "codemirror_mode": {
    "name": "ipython",
    "version": 3
   },
   "file_extension": ".py",
   "mimetype": "text/x-python",
   "name": "python",
   "nbconvert_exporter": "python",
   "pygments_lexer": "ipython3",
   "version": "3.13.5"
  }
 },
 "nbformat": 4,
 "nbformat_minor": 5
}
